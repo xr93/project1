{
 "cells": [
  {
   "cell_type": "markdown",
   "metadata": {},
   "source": [
    "<img src=\"shrdc_logo.png\" style=\"height: 100px;\" align=left>  "
   ]
  },
  {
   "cell_type": "markdown",
   "metadata": {},
   "source": [
    "## Load Libraries"
   ]
  },
  {
   "cell_type": "code",
   "execution_count": null,
   "metadata": {},
   "outputs": [],
   "source": [
    "import pandas as pd\n",
    "import seaborn as sns\n",
    "import matplotlib.pyplot as plt\n",
    "import numpy as np \n",
    "\n",
    "pd.set_option('display.max_columns', 100)\n",
    "\n",
    "sns.set()"
   ]
  },
  {
   "cell_type": "markdown",
   "metadata": {},
   "source": [
    "## Import data\n",
    "\n",
    "#### Read the file \"dataset.csv\" and change all the column names to upper case."
   ]
  },
  {
   "cell_type": "code",
   "execution_count": null,
   "metadata": {},
   "outputs": [],
   "source": [
    "# your codes here...\n",
    "\n",
    "df = pd.read_csv(\"dataset.csv\")\n",
    "df.columns = map(str.upper, df.columns) \n",
    "\n",
    "df.head()"
   ]
  },
  {
   "cell_type": "markdown",
   "metadata": {},
   "source": [
    "### QUESTION 1: Transform raw data according to Data Dictionary [1m]\n",
    "\n",
    "Refer to data_dictionary.csv and map the attributes values accordingly. \n",
    "\n",
    "For example, for \"SEX\" variable, the value \"FEMALE\" will take the value 1, while \"MALE\" will be assigned 2; \"UNKNOWN\" will be assigned 99. \n",
    "\n",
    "Perform the same operation for all the variables listed in the data dictionary such as \"HOSPITALIZED\", \"INTUBATED\" , \"PNEUMONIA\" ,\"PREGNANCY\" , 'SPEAKS_NATIVE_LANGUAGE', \"DIABETES\" , \"COPD\" , \"ASTHMA\" , \"INMUSUPR\" , \"HYPERTENSION\" , \"OTHER_DISEASE\" , \"CARDIOVASCULAR\" , \"OBESITY\" , 'CHRONIC_KIDNEY', \"TOBACCO\" , \"ANOTHER CASE\" ,\"MIGRANT\", \"ICU\", \"OUTCOME\", \"NATIONALITY\"."
   ]
  },
  {
   "cell_type": "code",
   "execution_count": null,
   "metadata": {},
   "outputs": [],
   "source": [
    "# Sample code for mapping\n",
    "\n",
    "df[\"SEX\"] = pd.to_numeric(df[\"SEX\"])\n",
    "df[\"SEX\"] = df[\"SEX\"].map({1:\"FEMALE\", 2:\"MALE\", 99:\"UNKNOWN\"})\n",
    "\n",
    "# your codes here...\n",
    " "
   ]
  },
  {
   "cell_type": "markdown",
   "metadata": {},
   "source": [
    "### QUESTION 2: Which age groups are most susceptible to COVID-19? [1m]\n",
    "\n",
    "Cut the AGE into bins of [0,10,20,30,40,50,60,70,80,90,100]."
   ]
  },
  {
   "cell_type": "code",
   "execution_count": null,
   "metadata": {},
   "outputs": [],
   "source": [
    "analysis = df.copy()\n",
    "\n",
    "# your codes here...\n",
    "\n"
   ]
  },
  {
   "cell_type": "markdown",
   "metadata": {},
   "source": [
    "### QUESTION 3: Based on the above information, plot a bar chart. [1m]\n",
    "\n",
    "Use the same bin as in Question 2."
   ]
  },
  {
   "cell_type": "code",
   "execution_count": null,
   "metadata": {},
   "outputs": [],
   "source": [
    "# your codes here...\n",
    "\n",
    " "
   ]
  },
  {
   "cell_type": "markdown",
   "metadata": {},
   "source": [
    "### QUESTION 4: Based on the above information, plot a histogram. [1m]\n",
    "\n",
    "Use the same bin as in Question 2."
   ]
  },
  {
   "cell_type": "code",
   "execution_count": null,
   "metadata": {},
   "outputs": [],
   "source": [
    "# your codes here...\n",
    " "
   ]
  },
  {
   "cell_type": "markdown",
   "metadata": {},
   "source": [
    "### QUESTION 5: Distribution of cases by gender & age group [1m]\n",
    "\n",
    "Use the same bin as in Question 2."
   ]
  },
  {
   "cell_type": "code",
   "execution_count": null,
   "metadata": {},
   "outputs": [],
   "source": [
    "# your codes here...\n",
    "\n",
    " "
   ]
  },
  {
   "cell_type": "markdown",
   "metadata": {},
   "source": [
    "### QUESTION 6: How many patients required intubation? [1m]\n",
    "\n",
    "Produce a bar chart"
   ]
  },
  {
   "cell_type": "code",
   "execution_count": null,
   "metadata": {},
   "outputs": [],
   "source": [
    "# your codes here...\n",
    "\n",
    " "
   ]
  },
  {
   "cell_type": "markdown",
   "metadata": {},
   "source": [
    "### QUESTION 7. Any correlations between other diseases and ICU admission?[1m]\n",
    "\n",
    "The diseases are \"DIABETES\", \"COPD\", \"ASTHMA\", \"INMUSUPR\", \"HYPERTENSION\", \"CARDIOVASCULAR\", \"OBESITY\", \"CHRONIC_KIDNEY\",\"TOBACCO\""
   ]
  },
  {
   "cell_type": "code",
   "execution_count": null,
   "metadata": {},
   "outputs": [],
   "source": [
    "# your codes here...\n",
    "\n"
   ]
  },
  {
   "cell_type": "markdown",
   "metadata": {},
   "source": [
    "### QUESTION 8. What are the common diseases that the deceased patients had?[1m]\n",
    "\n",
    "#### Produce a bar chart"
   ]
  },
  {
   "cell_type": "code",
   "execution_count": null,
   "metadata": {},
   "outputs": [],
   "source": [
    "# your codes here...\n"
   ]
  },
  {
   "cell_type": "markdown",
   "metadata": {},
   "source": [
    "### Question 9: Streamlit Development\n",
    "\n",
    "In this question, you are required to develop an interactive UI using streamlit and hosting it to Streamlit cloud. Your streamlit app should demonstrate 3 different interactive charts. That is, changing or selecting different parameters, the charts will change accordingly. \n"
   ]
  }
 ],
 "metadata": {
  "kernelspec": {
   "display_name": "Python 3 (ipykernel)",
   "language": "python",
   "name": "python3"
  },
  "language_info": {
   "codemirror_mode": {
    "name": "ipython",
    "version": 3
   },
   "file_extension": ".py",
   "mimetype": "text/x-python",
   "name": "python",
   "nbconvert_exporter": "python",
   "pygments_lexer": "ipython3",
   "version": "3.11.8"
  }
 },
 "nbformat": 4,
 "nbformat_minor": 4
}
